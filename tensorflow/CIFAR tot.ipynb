{
 "cells": [
  {
   "cell_type": "code",
   "execution_count": 4,
   "id": "03d035de",
   "metadata": {},
   "outputs": [],
   "source": [
    "from keras.datasets import cifar10\n",
    "import matplotlib.pyplot as plt"
   ]
  },
  {
   "cell_type": "code",
   "execution_count": 5,
   "id": "779da26c",
   "metadata": {},
   "outputs": [],
   "source": [
    "(X_train, y_train), (X_test, y_test) = cifar10.load_data()"
   ]
  },
  {
   "cell_type": "code",
   "execution_count": 6,
   "id": "1d1cde4b",
   "metadata": {},
   "outputs": [],
   "source": [
    "X_train = X_train / X_train.max()\n",
    "X_test = X_test / X_test.max()"
   ]
  },
  {
   "cell_type": "code",
   "execution_count": 7,
   "id": "e8f79d56",
   "metadata": {},
   "outputs": [
    {
     "data": {
      "text/plain": [
       "(50000, 32, 32, 3)"
      ]
     },
     "execution_count": 7,
     "metadata": {},
     "output_type": "execute_result"
    }
   ],
   "source": [
    "X_train.shape"
   ]
  },
  {
   "cell_type": "code",
   "execution_count": 8,
   "id": "0c131abd",
   "metadata": {},
   "outputs": [],
   "source": [
    "from keras.utils import to_categorical"
   ]
  },
  {
   "cell_type": "code",
   "execution_count": 9,
   "id": "32be79d8",
   "metadata": {},
   "outputs": [],
   "source": [
    "y_cat_train = to_categorical(y_train)\n",
    "y_cat_test = to_categorical(y_test)"
   ]
  },
  {
   "cell_type": "code",
   "execution_count": 10,
   "id": "771815ce",
   "metadata": {},
   "outputs": [],
   "source": [
    "from keras.models import Sequential\n",
    "from keras.layers import Conv2D, MaxPool2D, Dense, Flatten"
   ]
  },
  {
   "cell_type": "code",
   "execution_count": 11,
   "id": "126d4141",
   "metadata": {},
   "outputs": [],
   "source": [
    "model = Sequential()\n",
    "\n",
    "# First Set of Conv Layers\n",
    "model.add(Conv2D(input_shape=(32, 32, 3), filters=32, kernel_size=(4, 4), activation='relu'))\n",
    "model.add(Conv2D(input_shape=(32, 32, 3), filters=32, kernel_size=(4, 4), activation='relu'))\n",
    "model.add(MaxPool2D(pool_size=(2, 2)))\n",
    "\n",
    "# Second Set of Conv Layers\n",
    "model.add(Conv2D(input_shape=(32, 32, 3), filters=32, kernel_size=(4, 4), activation='relu'))\n",
    "model.add(Conv2D(input_shape=(32, 32, 3), filters=32, kernel_size=(4, 4), activation='relu'))\n",
    "model.add(MaxPool2D(pool_size=(2, 2)))\n",
    "\n",
    "# Flatten\n",
    "model.add(Flatten())\n",
    "\n",
    "# Dense\n",
    "model.add(Dense(256, activation='relu'))\n",
    "\n",
    "# Output\n",
    "model.add(Dense(10, activation='softmax'))\n",
    "\n",
    "model.compile(loss='categorical_crossentropy',\n",
    "    optimizer='rmsprop',\n",
    "    metrics=['accuracy']\n",
    ")"
   ]
  },
  {
   "cell_type": "code",
   "execution_count": 12,
   "id": "db1c06cd",
   "metadata": {},
   "outputs": [
    {
     "name": "stdout",
     "output_type": "stream",
     "text": [
      "Model: \"sequential\"\n",
      "_________________________________________________________________\n",
      " Layer (type)                Output Shape              Param #   \n",
      "=================================================================\n",
      " conv2d (Conv2D)             (None, 29, 29, 32)        1568      \n",
      "                                                                 \n",
      " conv2d_1 (Conv2D)           (None, 26, 26, 32)        16416     \n",
      "                                                                 \n",
      " max_pooling2d (MaxPooling2D  (None, 13, 13, 32)       0         \n",
      " )                                                               \n",
      "                                                                 \n",
      " conv2d_2 (Conv2D)           (None, 10, 10, 32)        16416     \n",
      "                                                                 \n",
      " conv2d_3 (Conv2D)           (None, 7, 7, 32)          16416     \n",
      "                                                                 \n",
      " max_pooling2d_1 (MaxPooling  (None, 3, 3, 32)         0         \n",
      " 2D)                                                             \n",
      "                                                                 \n",
      " flatten (Flatten)           (None, 288)               0         \n",
      "                                                                 \n",
      " dense (Dense)               (None, 256)               73984     \n",
      "                                                                 \n",
      " dense_1 (Dense)             (None, 10)                2570      \n",
      "                                                                 \n",
      "=================================================================\n",
      "Total params: 127,370\n",
      "Trainable params: 127,370\n",
      "Non-trainable params: 0\n",
      "_________________________________________________________________\n"
     ]
    }
   ],
   "source": [
    "model.summary()"
   ]
  },
  {
   "cell_type": "code",
   "execution_count": 13,
   "id": "f914bb25",
   "metadata": {},
   "outputs": [
    {
     "name": "stdout",
     "output_type": "stream",
     "text": [
      "Epoch 1/10\n",
      "1563/1563 [==============================] - 88s 56ms/step - loss: 1.6101 - accuracy: 0.4152\n",
      "Epoch 2/10\n",
      "1563/1563 [==============================] - 88s 56ms/step - loss: 1.2216 - accuracy: 0.5667\n",
      "Epoch 3/10\n",
      "1563/1563 [==============================] - 86s 55ms/step - loss: 1.0645 - accuracy: 0.6251\n",
      "Epoch 4/10\n",
      "1563/1563 [==============================] - 80s 51ms/step - loss: 0.9692 - accuracy: 0.6614\n",
      "Epoch 5/10\n",
      "1563/1563 [==============================] - 81s 52ms/step - loss: 0.9012 - accuracy: 0.6858\n",
      "Epoch 6/10\n",
      "1563/1563 [==============================] - 81s 52ms/step - loss: 0.8660 - accuracy: 0.7010\n",
      "Epoch 7/10\n",
      "1563/1563 [==============================] - 82s 52ms/step - loss: 0.8401 - accuracy: 0.7125\n",
      "Epoch 8/10\n",
      "1563/1563 [==============================] - 90s 58ms/step - loss: 0.8399 - accuracy: 0.7121\n",
      "Epoch 9/10\n",
      "1563/1563 [==============================] - 84s 54ms/step - loss: 0.8352 - accuracy: 0.7162\n",
      "Epoch 10/10\n",
      "1563/1563 [==============================] - 82s 52ms/step - loss: 0.8413 - accuracy: 0.7145\n"
     ]
    },
    {
     "data": {
      "text/plain": [
       "<keras.callbacks.History at 0x1e8364c8be0>"
      ]
     },
     "execution_count": 13,
     "metadata": {},
     "output_type": "execute_result"
    }
   ],
   "source": [
    "model.fit(X_train, y_cat_train, epochs=10, verbose=1)"
   ]
  },
  {
   "cell_type": "code",
   "execution_count": 15,
   "id": "a394d871",
   "metadata": {},
   "outputs": [],
   "source": [
    "import numpy as np"
   ]
  },
  {
   "cell_type": "code",
   "execution_count": 16,
   "id": "c162b684",
   "metadata": {},
   "outputs": [
    {
     "name": "stdout",
     "output_type": "stream",
     "text": [
      "313/313 [==============================] - 3s 9ms/step\n"
     ]
    }
   ],
   "source": [
    "pred = model.predict(X_test)\n",
    "pred = np.argmax(pred, axis=1)"
   ]
  },
  {
   "cell_type": "code",
   "execution_count": 19,
   "id": "151ccae2",
   "metadata": {},
   "outputs": [],
   "source": [
    "from sklearn.metrics import classification_report"
   ]
  },
  {
   "cell_type": "code",
   "execution_count": 20,
   "id": "b086f0c4",
   "metadata": {},
   "outputs": [
    {
     "name": "stdout",
     "output_type": "stream",
     "text": [
      "              precision    recall  f1-score   support\n",
      "\n",
      "           0       0.71      0.67      0.69      1051\n",
      "           1       0.68      0.93      0.79       737\n",
      "           2       0.47      0.67      0.55       705\n",
      "           3       0.62      0.43      0.51      1447\n",
      "           4       0.44      0.65      0.52       673\n",
      "           5       0.43      0.67      0.53       643\n",
      "           6       0.49      0.92      0.64       539\n",
      "           7       0.89      0.45      0.60      1981\n",
      "           8       0.79      0.76      0.77      1047\n",
      "           9       0.84      0.71      0.77      1177\n",
      "\n",
      "    accuracy                           0.64     10000\n",
      "   macro avg       0.64      0.69      0.64     10000\n",
      "weighted avg       0.69      0.64      0.64     10000\n",
      "\n"
     ]
    }
   ],
   "source": [
    "print(classification_report(pred, y_test))"
   ]
  },
  {
   "cell_type": "code",
   "execution_count": 21,
   "id": "31c3f9f5",
   "metadata": {},
   "outputs": [],
   "source": [
    "import random"
   ]
  },
  {
   "cell_type": "code",
   "execution_count": 28,
   "id": "a01c0d31",
   "metadata": {},
   "outputs": [
    {
     "name": "stdout",
     "output_type": "stream",
     "text": [
      "1/1 [==============================] - 0s 53ms/step\n",
      "9\n"
     ]
    },
    {
     "data": {
      "image/png": "[encoded data removed]",
      "text/plain": [
       "<Figure size 640x480 with 1 Axes>"
      ]
     },
     "metadata": {},
     "output_type": "display_data"
    }
   ],
   "source": [
    "image = random.choice(X_test)\n",
    "plt.imshow(image)\n",
    "pred = model.predict(image.reshape(1, 32, 32, 3))\n",
    "print(pred.argmax())"
   ]
  }
 ],
 "metadata": {
  "kernelspec": {
   "display_name": "Python 3.8.10 ('venv': venv)",
   "language": "python",
   "name": "python3"
  },
  "language_info": {
   "codemirror_mode": {
    "name": "ipython",
    "version": 3
   },
   "file_extension": ".py",
   "mimetype": "text/x-python",
   "name": "python",
   "nbconvert_exporter": "python",
   "pygments_lexer": "ipython3",
   "version": "3.8.10"
  },
  "vscode": {
   "interpreter": {
    "hash": "26043271bdf4067fc019c55fa3494415698b749518a4287fbf54109543f2c3d2"
   }
  }
 },
 "nbformat": 4,
 "nbformat_minor": 5
}
